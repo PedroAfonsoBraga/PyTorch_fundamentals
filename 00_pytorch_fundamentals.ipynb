{
  "nbformat": 4,
  "nbformat_minor": 0,
  "metadata": {
    "colab": {
      "provenance": [],
      "collapsed_sections": [
        "ibk8-IeL4OeF",
        "Tnu5Rpze4Tl8",
        "vjwDVLud8owR",
        "N646VluwU_gG",
        "yXC0aXzMSHX2",
        "61Tsy6vG3mou",
        "Ry8tQJYUJwyD"
      ],
      "gpuType": "T4",
      "authorship_tag": "ABX9TyPmx4KMp4STNM5dEj4nJP98",
      "include_colab_link": true
    },
    "kernelspec": {
      "name": "python3",
      "display_name": "Python 3"
    },
    "language_info": {
      "name": "python"
    }
  },
  "cells": [
    {
      "cell_type": "markdown",
      "metadata": {
        "id": "view-in-github",
        "colab_type": "text"
      },
      "source": [
        "<a href=\"https://colab.research.google.com/github/PedroAfonsoBraga/PyTorch_fundamentals/blob/main/00_pytorch_fundamentals.ipynb\" target=\"_parent\"><img src=\"https://colab.research.google.com/assets/colab-badge.svg\" alt=\"Open In Colab\"/></a>"
      ]
    },
    {
      "cell_type": "markdown",
      "source": [
        "# **Importando bibliotecas**"
      ],
      "metadata": {
        "id": "ibk8-IeL4OeF"
      }
    },
    {
      "cell_type": "code",
      "execution_count": null,
      "metadata": {
        "colab": {
          "base_uri": "https://localhost:8080/"
        },
        "id": "U2qCTlHA3knH",
        "outputId": "809156e0-07c0-4a9f-c906-ba78ea509c0d"
      },
      "outputs": [
        {
          "output_type": "stream",
          "name": "stdout",
          "text": [
            "2.2.1+cu121\n"
          ]
        }
      ],
      "source": [
        "import torch\n",
        "import pandas as pd\n",
        "import numpy as np\n",
        "import matplotlib.pyplot as plt\n",
        "print(torch.__version__)"
      ]
    },
    {
      "cell_type": "markdown",
      "source": [
        "# **Criando Tensores**"
      ],
      "metadata": {
        "id": "Tnu5Rpze4Tl8"
      }
    },
    {
      "cell_type": "markdown",
      "source": [
        "Tensores do PyTorch são criados com `torch.tensor()`\n",
        "https://pytorch.org/docs/stable/tensors.html#torch.Tensor\n"
      ],
      "metadata": {
        "id": "jQc6-H_G4aGl"
      }
    },
    {
      "cell_type": "markdown",
      "source": [
        "**Escalar**"
      ],
      "metadata": {
        "id": "orxNiDDa5JEK"
      }
    },
    {
      "cell_type": "code",
      "source": [
        "#Escalar\n",
        "scalar = torch.tensor(7)\n",
        "scalar"
      ],
      "metadata": {
        "colab": {
          "base_uri": "https://localhost:8080/"
        },
        "id": "S1XtqhCV4XVF",
        "outputId": "31d0307e-51f5-473d-9e03-26c7e20f4242"
      },
      "execution_count": null,
      "outputs": [
        {
          "output_type": "execute_result",
          "data": {
            "text/plain": [
              "tensor(7)"
            ]
          },
          "metadata": {},
          "execution_count": 6
        }
      ]
    },
    {
      "cell_type": "markdown",
      "source": [
        "não tem dimensões, é apenas um único número"
      ],
      "metadata": {
        "id": "FQCLPCU94lKH"
      }
    },
    {
      "cell_type": "code",
      "source": [
        "#n. de dimensoes\n",
        "scalar.ndim"
      ],
      "metadata": {
        "colab": {
          "base_uri": "https://localhost:8080/"
        },
        "id": "I8LD8J1l4_T6",
        "outputId": "b2ec3c55-a92a-4085-f5e8-72aba5e7f56c"
      },
      "execution_count": null,
      "outputs": [
        {
          "output_type": "execute_result",
          "data": {
            "text/plain": [
              "0"
            ]
          },
          "metadata": {},
          "execution_count": 7
        }
      ]
    },
    {
      "cell_type": "code",
      "source": [
        "# Retorna o item do scalar\n",
        "scalar.item()"
      ],
      "metadata": {
        "colab": {
          "base_uri": "https://localhost:8080/"
        },
        "id": "D4FVBlYj5HBS",
        "outputId": "18f6c255-6fec-4a01-8cfa-6fc823c58d17"
      },
      "execution_count": null,
      "outputs": [
        {
          "output_type": "execute_result",
          "data": {
            "text/plain": [
              "7"
            ]
          },
          "metadata": {},
          "execution_count": 8
        }
      ]
    },
    {
      "cell_type": "markdown",
      "source": [
        "**Vetor**"
      ],
      "metadata": {
        "id": "2AgdnuAY503v"
      }
    },
    {
      "cell_type": "code",
      "source": [
        "vector = torch.tensor([7, 7])\n",
        "vector"
      ],
      "metadata": {
        "colab": {
          "base_uri": "https://localhost:8080/"
        },
        "id": "RHydjyZF510H",
        "outputId": "a25ad774-6d0f-4095-e6fd-98da748a2d8e"
      },
      "execution_count": null,
      "outputs": [
        {
          "output_type": "execute_result",
          "data": {
            "text/plain": [
              "tensor([7, 7])"
            ]
          },
          "metadata": {},
          "execution_count": 9
        }
      ]
    },
    {
      "cell_type": "code",
      "source": [
        "# numero de dimensoes (n. de [])\n",
        "vector.ndim"
      ],
      "metadata": {
        "colab": {
          "base_uri": "https://localhost:8080/"
        },
        "id": "R6xz8m-76Lvh",
        "outputId": "85209134-8894-489c-c584-e7b08dd769c4"
      },
      "execution_count": null,
      "outputs": [
        {
          "output_type": "execute_result",
          "data": {
            "text/plain": [
              "1"
            ]
          },
          "metadata": {},
          "execution_count": 10
        }
      ]
    },
    {
      "cell_type": "code",
      "source": [
        "# shape do vetor\n",
        "vector.shape"
      ],
      "metadata": {
        "colab": {
          "base_uri": "https://localhost:8080/"
        },
        "id": "kedeyN466T1K",
        "outputId": "0d58c4b6-1770-4a6a-c8da-36805119095a"
      },
      "execution_count": null,
      "outputs": [
        {
          "output_type": "execute_result",
          "data": {
            "text/plain": [
              "torch.Size([2])"
            ]
          },
          "metadata": {},
          "execution_count": 11
        }
      ]
    },
    {
      "cell_type": "markdown",
      "source": [
        "**Matriz**"
      ],
      "metadata": {
        "id": "NsJ3Cpk76ys9"
      }
    },
    {
      "cell_type": "code",
      "source": [
        "MATRIX = torch.tensor([[1,2],\n",
        "                       [3,4]])\n",
        "MATRIX"
      ],
      "metadata": {
        "colab": {
          "base_uri": "https://localhost:8080/"
        },
        "id": "EINakdCA61mm",
        "outputId": "8a3d8f98-ac5c-4b12-e8e0-29e5f265e849"
      },
      "execution_count": null,
      "outputs": [
        {
          "output_type": "execute_result",
          "data": {
            "text/plain": [
              "tensor([[1, 2],\n",
              "        [3, 4]])"
            ]
          },
          "metadata": {},
          "execution_count": 12
        }
      ]
    },
    {
      "cell_type": "code",
      "source": [
        "MATRIX.ndim"
      ],
      "metadata": {
        "colab": {
          "base_uri": "https://localhost:8080/"
        },
        "id": "wukYRPvd7HVu",
        "outputId": "0ebf4af8-5da4-4831-f1e2-df9968c5c01b"
      },
      "execution_count": null,
      "outputs": [
        {
          "output_type": "execute_result",
          "data": {
            "text/plain": [
              "2"
            ]
          },
          "metadata": {},
          "execution_count": 13
        }
      ]
    },
    {
      "cell_type": "code",
      "source": [
        "MATRIX[1]"
      ],
      "metadata": {
        "colab": {
          "base_uri": "https://localhost:8080/"
        },
        "id": "TA9eEW3P7JKO",
        "outputId": "5fab38f0-3f7f-4e69-c6c2-4650672f2cf8"
      },
      "execution_count": null,
      "outputs": [
        {
          "output_type": "execute_result",
          "data": {
            "text/plain": [
              "tensor([3, 4])"
            ]
          },
          "metadata": {},
          "execution_count": 14
        }
      ]
    },
    {
      "cell_type": "code",
      "source": [
        "MATRIX.shape"
      ],
      "metadata": {
        "colab": {
          "base_uri": "https://localhost:8080/"
        },
        "id": "bqgChotb7N5w",
        "outputId": "15045286-5189-4c87-e8dc-535668337e49"
      },
      "execution_count": null,
      "outputs": [
        {
          "output_type": "execute_result",
          "data": {
            "text/plain": [
              "torch.Size([2, 2])"
            ]
          },
          "metadata": {},
          "execution_count": 15
        }
      ]
    },
    {
      "cell_type": "markdown",
      "source": [
        "**Tensor**"
      ],
      "metadata": {
        "id": "Q2_NAnZX7SSw"
      }
    },
    {
      "cell_type": "code",
      "source": [
        "TENSOR = torch.tensor([[[1,2,3],\n",
        "                        [3,6,9],\n",
        "                        [2,4,5]],\n",
        "                       [[1,3,5],\n",
        "                        [7,8,9],\n",
        "                        [9,7,5]]])\n",
        "TENSOR"
      ],
      "metadata": {
        "colab": {
          "base_uri": "https://localhost:8080/"
        },
        "id": "WGdNT-Ea7TwQ",
        "outputId": "2dd5aa9e-d876-44c7-f675-57f0f3bfb085"
      },
      "execution_count": null,
      "outputs": [
        {
          "output_type": "execute_result",
          "data": {
            "text/plain": [
              "tensor([[[1, 2, 3],\n",
              "         [3, 6, 9],\n",
              "         [2, 4, 5]],\n",
              "\n",
              "        [[1, 3, 5],\n",
              "         [7, 8, 9],\n",
              "         [9, 7, 5]]])"
            ]
          },
          "metadata": {},
          "execution_count": 16
        }
      ]
    },
    {
      "cell_type": "code",
      "source": [
        "TENSOR.ndim"
      ],
      "metadata": {
        "colab": {
          "base_uri": "https://localhost:8080/"
        },
        "id": "BV-2AJXP7roq",
        "outputId": "289e69fa-6344-4511-a73a-b437a0c73c1a"
      },
      "execution_count": null,
      "outputs": [
        {
          "output_type": "execute_result",
          "data": {
            "text/plain": [
              "3"
            ]
          },
          "metadata": {},
          "execution_count": 17
        }
      ]
    },
    {
      "cell_type": "code",
      "source": [
        "TENSOR.shape"
      ],
      "metadata": {
        "colab": {
          "base_uri": "https://localhost:8080/"
        },
        "id": "LmAgdAV27zoD",
        "outputId": "4c52b90c-2e70-46a8-dd5a-6583602011b9"
      },
      "execution_count": null,
      "outputs": [
        {
          "output_type": "execute_result",
          "data": {
            "text/plain": [
              "torch.Size([2, 3, 3])"
            ]
          },
          "metadata": {},
          "execution_count": 18
        }
      ]
    },
    {
      "cell_type": "code",
      "source": [
        "TENSOR[0]"
      ],
      "metadata": {
        "colab": {
          "base_uri": "https://localhost:8080/"
        },
        "id": "nzFEO4PB8HQ-",
        "outputId": "c45356dc-861b-4cf3-9d64-474843dd8e46"
      },
      "execution_count": null,
      "outputs": [
        {
          "output_type": "execute_result",
          "data": {
            "text/plain": [
              "tensor([[1, 2, 3],\n",
              "        [3, 6, 9],\n",
              "        [2, 4, 5]])"
            ]
          },
          "metadata": {},
          "execution_count": 19
        }
      ]
    },
    {
      "cell_type": "markdown",
      "source": [
        "# **Criando Tensores aleatórios**"
      ],
      "metadata": {
        "id": "vjwDVLud8owR"
      }
    },
    {
      "cell_type": "markdown",
      "source": [
        "**Por que tensores aleatórios?**\n",
        "\n",
        "Tensores aleatórios são importantes porque é a maneira como muitas redes neurais aprendem, começando com tensores com valores aleatórios, e então ajustam estes valores para melhor representar os dados"
      ],
      "metadata": {
        "id": "NA-BsoF2IQRl"
      }
    },
    {
      "cell_type": "markdown",
      "source": [
        "`Inicia com números aleatórios -> observa os dados -> atualiza valores aleatórios -> observa os dados -> atualiza valores aleatórios`"
      ],
      "metadata": {
        "id": "VuRg3QAuI5Vv"
      }
    },
    {
      "cell_type": "markdown",
      "source": [
        "**Criando Tensor aleatório**\n",
        "\n",
        "Tensor de tamanho (3,4)\n",
        "\n",
        "Torch docs - https://pytorch.org/docs/stable/generated/torch.rand.html#torch.rand"
      ],
      "metadata": {
        "id": "UHSieuEIJNbY"
      }
    },
    {
      "cell_type": "code",
      "source": [
        "random_tensor = torch.rand(3,4)\n",
        "random_tensor"
      ],
      "metadata": {
        "colab": {
          "base_uri": "https://localhost:8080/"
        },
        "id": "W__ms3IeI1UG",
        "outputId": "4f5e9f4a-f191-4c5b-98d4-18fae8863e4e"
      },
      "execution_count": null,
      "outputs": [
        {
          "output_type": "execute_result",
          "data": {
            "text/plain": [
              "tensor([[0.6390, 0.9682, 0.6035, 0.9533],\n",
              "        [0.2711, 0.5503, 0.4643, 0.2067],\n",
              "        [0.0935, 0.1136, 0.1464, 0.8171]])"
            ]
          },
          "metadata": {},
          "execution_count": 43
        }
      ]
    },
    {
      "cell_type": "code",
      "source": [
        "random_tensor.ndim"
      ],
      "metadata": {
        "id": "ZPbVAe3BKf3o",
        "outputId": "40e61e84-62b5-47f1-cbe7-dad54a152186",
        "colab": {
          "base_uri": "https://localhost:8080/"
        }
      },
      "execution_count": null,
      "outputs": [
        {
          "output_type": "execute_result",
          "data": {
            "text/plain": [
              "2"
            ]
          },
          "metadata": {},
          "execution_count": 44
        }
      ]
    },
    {
      "cell_type": "markdown",
      "source": [
        "**Criando um tensor aleatório com um shape similar a uma imagem**"
      ],
      "metadata": {
        "id": "CUsnyCaTLCtK"
      }
    },
    {
      "cell_type": "code",
      "source": [
        "random_image_size_tensor = torch.rand(size = (224, 224, 3))\n",
        "random_image_size_tensor.shape, random_image_size_tensor.ndim"
      ],
      "metadata": {
        "colab": {
          "base_uri": "https://localhost:8080/"
        },
        "id": "WGQEM_THLCcL",
        "outputId": "b7d57b92-302e-426a-c2cb-71c6286bf90e"
      },
      "execution_count": null,
      "outputs": [
        {
          "output_type": "execute_result",
          "data": {
            "text/plain": [
              "(torch.Size([224, 224, 3]), 3)"
            ]
          },
          "metadata": {},
          "execution_count": 45
        }
      ]
    },
    {
      "cell_type": "markdown",
      "source": [
        "**Zeros e uns**"
      ],
      "metadata": {
        "id": "yDci9e3bMUVM"
      }
    },
    {
      "cell_type": "code",
      "source": [
        "# zeros\n",
        "zeros = torch.zeros(3,4)\n",
        "zeros"
      ],
      "metadata": {
        "colab": {
          "base_uri": "https://localhost:8080/"
        },
        "id": "1k8FDJzeMdH9",
        "outputId": "21f6319f-46b8-4a93-a274-047e6a7e42d9"
      },
      "execution_count": null,
      "outputs": [
        {
          "output_type": "execute_result",
          "data": {
            "text/plain": [
              "tensor([[0., 0., 0., 0.],\n",
              "        [0., 0., 0., 0.],\n",
              "        [0., 0., 0., 0.]])"
            ]
          },
          "metadata": {},
          "execution_count": 46
        }
      ]
    },
    {
      "cell_type": "code",
      "source": [
        "# um\n",
        "uns = torch.ones(3,4)\n",
        "uns"
      ],
      "metadata": {
        "colab": {
          "base_uri": "https://localhost:8080/"
        },
        "id": "MsRtQgpERzCo",
        "outputId": "122e4cb2-cf00-4af1-ce1b-075aa1a0332d"
      },
      "execution_count": null,
      "outputs": [
        {
          "output_type": "execute_result",
          "data": {
            "text/plain": [
              "tensor([[1., 1., 1., 1.],\n",
              "        [1., 1., 1., 1.],\n",
              "        [1., 1., 1., 1.]])"
            ]
          },
          "metadata": {},
          "execution_count": 47
        }
      ]
    },
    {
      "cell_type": "code",
      "source": [
        "uns.dtype"
      ],
      "metadata": {
        "colab": {
          "base_uri": "https://localhost:8080/"
        },
        "id": "BhqBRsv2Urrs",
        "outputId": "1d5c0fa1-bd0d-4a2f-ee1c-c4914d92c89d"
      },
      "execution_count": null,
      "outputs": [
        {
          "output_type": "execute_result",
          "data": {
            "text/plain": [
              "torch.float32"
            ]
          },
          "metadata": {},
          "execution_count": 48
        }
      ]
    },
    {
      "cell_type": "markdown",
      "source": [
        "# **Criando um range de tensores e similares**"
      ],
      "metadata": {
        "id": "N646VluwU_gG"
      }
    },
    {
      "cell_type": "markdown",
      "source": [
        "Usando torch.arange()"
      ],
      "metadata": {
        "id": "li2sQQv5l4-5"
      }
    },
    {
      "cell_type": "code",
      "source": [
        "um_a_dez = torch.arange(1,11)\n",
        "um_a_dez"
      ],
      "metadata": {
        "colab": {
          "base_uri": "https://localhost:8080/"
        },
        "id": "W_zmSpLTVFNn",
        "outputId": "b5ed70c6-9a02-4c5e-f658-f768315a4027"
      },
      "execution_count": null,
      "outputs": [
        {
          "output_type": "execute_result",
          "data": {
            "text/plain": [
              "tensor([ 1,  2,  3,  4,  5,  6,  7,  8,  9, 10])"
            ]
          },
          "metadata": {},
          "execution_count": 49
        }
      ]
    },
    {
      "cell_type": "code",
      "source": [
        "# Criando um tensor similiar\n",
        "dez_zeros = torch.zeros_like(um_a_dez)\n",
        "dez_zeros"
      ],
      "metadata": {
        "colab": {
          "base_uri": "https://localhost:8080/"
        },
        "id": "8U-KaTuWmbtE",
        "outputId": "824acebf-5f62-4786-a436-77ac59f9f83e"
      },
      "execution_count": null,
      "outputs": [
        {
          "output_type": "execute_result",
          "data": {
            "text/plain": [
              "tensor([0, 0, 0, 0, 0, 0, 0, 0, 0, 0])"
            ]
          },
          "metadata": {},
          "execution_count": 55
        }
      ]
    },
    {
      "cell_type": "markdown",
      "source": [
        "#**Tipo de dados em Tensores**"
      ],
      "metadata": {
        "id": "yXC0aXzMSHX2"
      }
    },
    {
      "cell_type": "markdown",
      "source": [
        "**Float 32 tensor**"
      ],
      "metadata": {
        "id": "XrEcO89LTi8k"
      }
    },
    {
      "cell_type": "markdown",
      "source": [
        "Mesmo com dtype em None, por padrão o tensor criiado é float32. Definindo outro tipo, altera-se.\n",
        "https://pytorch.org/docs/stable/tensors.html#data-types"
      ],
      "metadata": {
        "id": "KvJwYQ_kT__9"
      }
    },
    {
      "cell_type": "markdown",
      "source": [
        "**note**: Tensor datatypes são os erros mais comuns que serão enfrentados com PyTorch e deep learning:\n",
        "1. Tensor não está como o datatype correto\n",
        "2. Tensor não está com o shape correto\n",
        "3. Tensor não está com o device correto\n"
      ],
      "metadata": {
        "id": "mNb1GuXG0DEw"
      }
    },
    {
      "cell_type": "code",
      "source": [
        "float_32_tensor = torch.tensor([3., 6., 9.],\n",
        "                               dtype = None, #tipo de dado do tensor (float32 ou float 16)\n",
        "                               device=None, #em qual device está o tensor\n",
        "                               requires_grad=False) #se o tensor está com gradientes em operações\n",
        "\n",
        "float_32_tensor"
      ],
      "metadata": {
        "colab": {
          "base_uri": "https://localhost:8080/"
        },
        "id": "R-VqrGu2SQ27",
        "outputId": "ff7d8ce9-64e5-4c71-cf5e-0e92d7cdbe53"
      },
      "execution_count": null,
      "outputs": [
        {
          "output_type": "execute_result",
          "data": {
            "text/plain": [
              "tensor([3., 6., 9.])"
            ]
          },
          "metadata": {},
          "execution_count": 4
        }
      ]
    },
    {
      "cell_type": "code",
      "source": [
        "float_32_tensor.dtype"
      ],
      "metadata": {
        "colab": {
          "base_uri": "https://localhost:8080/"
        },
        "id": "0nKwfsn8T4k0",
        "outputId": "21adabbf-419c-42d6-e985-8c37fd71e5a7"
      },
      "execution_count": null,
      "outputs": [
        {
          "output_type": "execute_result",
          "data": {
            "text/plain": [
              "torch.float32"
            ]
          },
          "metadata": {},
          "execution_count": 5
        }
      ]
    },
    {
      "cell_type": "code",
      "source": [
        "#alterando datatype\n",
        "float_16_tensor = float_32_tensor.type(torch.float16)\n",
        "float_16_tensor"
      ],
      "metadata": {
        "colab": {
          "base_uri": "https://localhost:8080/"
        },
        "id": "zJy1uasT1uYR",
        "outputId": "9da29578-ceb9-4faf-be47-956ce2e16075"
      },
      "execution_count": null,
      "outputs": [
        {
          "output_type": "execute_result",
          "data": {
            "text/plain": [
              "tensor([3., 6., 9.], dtype=torch.float16)"
            ]
          },
          "metadata": {},
          "execution_count": 7
        }
      ]
    },
    {
      "cell_type": "code",
      "source": [
        "float_16_tensor * float_32_tensor"
      ],
      "metadata": {
        "colab": {
          "base_uri": "https://localhost:8080/"
        },
        "id": "6-tblB5H2OO5",
        "outputId": "d62dff17-36cc-434c-8905-92dc2da47e98"
      },
      "execution_count": null,
      "outputs": [
        {
          "output_type": "execute_result",
          "data": {
            "text/plain": [
              "tensor([ 9., 36., 81.])"
            ]
          },
          "metadata": {},
          "execution_count": 8
        }
      ]
    },
    {
      "cell_type": "markdown",
      "source": [
        "**32 integer tensor**"
      ],
      "metadata": {
        "id": "5GlGLUjO2xjD"
      }
    },
    {
      "cell_type": "code",
      "source": [
        "int_32_tensor = torch.tensor([3,6,8], dtype=torch.int32)\n",
        "int_32_tensor"
      ],
      "metadata": {
        "colab": {
          "base_uri": "https://localhost:8080/"
        },
        "id": "Lm9RKxHN25uB",
        "outputId": "4723c120-3fc6-4f92-c46d-d9cecb7e37bf"
      },
      "execution_count": null,
      "outputs": [
        {
          "output_type": "execute_result",
          "data": {
            "text/plain": [
              "tensor([3, 6, 8], dtype=torch.int32)"
            ]
          },
          "metadata": {},
          "execution_count": 15
        }
      ]
    },
    {
      "cell_type": "code",
      "source": [
        "float_32_tensor * int_32_tensor"
      ],
      "metadata": {
        "colab": {
          "base_uri": "https://localhost:8080/"
        },
        "id": "uuJ2CFw-3LON",
        "outputId": "69271c69-c318-461f-d955-b75283046a16"
      },
      "execution_count": null,
      "outputs": [
        {
          "output_type": "execute_result",
          "data": {
            "text/plain": [
              "tensor([ 9., 36., 72.])"
            ]
          },
          "metadata": {},
          "execution_count": 14
        }
      ]
    },
    {
      "cell_type": "markdown",
      "source": [
        "# **Adquirindo e manipulando informações de tensores (Tensor Attributes)**\n",
        "1. Tensor não está como o datatype correto - para adquirir datatype de um tensor, use `tensor.dtype`\n",
        "2. Tensor não está com o shape correto - para adquirir o shape de um tensor, use `tensor.shape` ou `tensor.size`\n",
        "3. Tensor não está com o device correto - para adquirir o device de um tensor, use `tensor.device`"
      ],
      "metadata": {
        "id": "61Tsy6vG3mou"
      }
    },
    {
      "cell_type": "code",
      "source": [
        "algum_tensor = torch.rand(3,4)\n",
        "algum_tensor"
      ],
      "metadata": {
        "colab": {
          "base_uri": "https://localhost:8080/"
        },
        "id": "h6nshvSc4mGp",
        "outputId": "54535f83-a434-4782-cb04-63987ecd1916"
      },
      "execution_count": null,
      "outputs": [
        {
          "output_type": "execute_result",
          "data": {
            "text/plain": [
              "tensor([[9.8409e-01, 6.7456e-01, 1.9847e-01, 1.5086e-01],\n",
              "        [5.9807e-01, 5.0742e-02, 6.6822e-01, 7.3889e-01],\n",
              "        [1.4879e-01, 4.0581e-01, 8.3613e-04, 8.6930e-01]])"
            ]
          },
          "metadata": {},
          "execution_count": 16
        }
      ]
    },
    {
      "cell_type": "markdown",
      "source": [
        "**Verificando detalhes de um tensor**"
      ],
      "metadata": {
        "id": "QR9ijl5k47PC"
      }
    },
    {
      "cell_type": "code",
      "source": [
        "print(algum_tensor)\n",
        "print()\n",
        "print(f\"Datatype do tensor: {algum_tensor.dtype}\")\n",
        "print(f\"Shape do tensor: {algum_tensor.shape}\")\n",
        "print(f\"Device do tensor: {algum_tensor.device}\")"
      ],
      "metadata": {
        "colab": {
          "base_uri": "https://localhost:8080/"
        },
        "id": "SbFxpWLC45Wz",
        "outputId": "cd1439aa-1cde-4ec3-ad9d-c8c817c232e2"
      },
      "execution_count": null,
      "outputs": [
        {
          "output_type": "stream",
          "name": "stdout",
          "text": [
            "tensor([[9.8409e-01, 6.7456e-01, 1.9847e-01, 1.5086e-01],\n",
            "        [5.9807e-01, 5.0742e-02, 6.6822e-01, 7.3889e-01],\n",
            "        [1.4879e-01, 4.0581e-01, 8.3613e-04, 8.6930e-01]])\n",
            "\n",
            "Datatype do tensor: torch.float32\n",
            "Shape do tensor: torch.Size([3, 4])\n",
            "Device do tensor: cpu\n"
          ]
        }
      ]
    },
    {
      "cell_type": "markdown",
      "source": [
        "# **Manipulando tensores**"
      ],
      "metadata": {
        "id": "Ry8tQJYUJwyD"
      }
    },
    {
      "cell_type": "markdown",
      "source": [
        "Operações com tensores incluem:\n",
        "* Adição\n",
        "* Subtração\n",
        "* Multiplicação (***element-wise***)\n",
        "* Divisão\n",
        "* Multiplicação de **matriz**"
      ],
      "metadata": {
        "id": "0dEyssl1J-rw"
      }
    },
    {
      "cell_type": "code",
      "source": [
        "# Criando um tensor\n",
        "tensor = torch.tensor([1, 2, 3])\n",
        "tensor + 10"
      ],
      "metadata": {
        "colab": {
          "base_uri": "https://localhost:8080/"
        },
        "id": "nY2ZMtymJ2me",
        "outputId": "327bb564-82ed-4be0-fcc6-fb45443c731f"
      },
      "execution_count": null,
      "outputs": [
        {
          "output_type": "execute_result",
          "data": {
            "text/plain": [
              "tensor([11, 12, 13])"
            ]
          },
          "metadata": {},
          "execution_count": 2
        }
      ]
    },
    {
      "cell_type": "code",
      "source": [
        "# Multiplicando por 10\n",
        "tensor * 10\n"
      ],
      "metadata": {
        "colab": {
          "base_uri": "https://localhost:8080/"
        },
        "id": "GQPxTW-1Kxan",
        "outputId": "a370eb3d-0c1c-4f14-cb45-b1b41c3e2f56"
      },
      "execution_count": null,
      "outputs": [
        {
          "output_type": "execute_result",
          "data": {
            "text/plain": [
              "tensor([10, 20, 30])"
            ]
          },
          "metadata": {},
          "execution_count": 5
        }
      ]
    },
    {
      "cell_type": "code",
      "source": [
        "tensor # note: não é substituído"
      ],
      "metadata": {
        "colab": {
          "base_uri": "https://localhost:8080/"
        },
        "id": "V3VbbvoAK6To",
        "outputId": "73a036b8-f19b-4dfb-89e5-1a204a64301d"
      },
      "execution_count": null,
      "outputs": [
        {
          "output_type": "execute_result",
          "data": {
            "text/plain": [
              "tensor([1, 2, 3])"
            ]
          },
          "metadata": {},
          "execution_count": 7
        }
      ]
    },
    {
      "cell_type": "code",
      "source": [
        "# Subtrair\n",
        "tensor - 10"
      ],
      "metadata": {
        "colab": {
          "base_uri": "https://localhost:8080/"
        },
        "id": "ELxzhR8JLMJZ",
        "outputId": "9c1ed2ce-5841-484d-b1ce-3d1a8436a73a"
      },
      "execution_count": null,
      "outputs": [
        {
          "output_type": "execute_result",
          "data": {
            "text/plain": [
              "tensor([-9, -8, -7])"
            ]
          },
          "metadata": {},
          "execution_count": 8
        }
      ]
    },
    {
      "cell_type": "markdown",
      "source": [
        "**in-built functions**\n"
      ],
      "metadata": {
        "id": "LgyLjcPELVQD"
      }
    },
    {
      "cell_type": "code",
      "source": [
        "torch.mul(tensor, 10) #dê preferência aos operadores em python\n",
        "torch.add(tensor, 10)"
      ],
      "metadata": {
        "colab": {
          "base_uri": "https://localhost:8080/"
        },
        "id": "TbMzVp6bLYn5",
        "outputId": "61cf231a-3451-437c-e9f5-4725e8796259"
      },
      "execution_count": null,
      "outputs": [
        {
          "output_type": "execute_result",
          "data": {
            "text/plain": [
              "tensor([11, 12, 13])"
            ]
          },
          "metadata": {},
          "execution_count": 10
        }
      ]
    },
    {
      "cell_type": "markdown",
      "source": [
        "**Multiplicação de matrizes**\n",
        "\n",
        "Existem duas principais formas de multiplicação em neural networks e deep learning:\n",
        "\n",
        "* Element-wise\n",
        "* Multiplicação de matrizes (*dot product*) [ https://www.mathsisfun.com/algebra/matrix-multiplying.html ]\n",
        "\n",
        "Obs: Existem duas regras principais sobre a multiplicação de matrizes que precisam ser satisfeitas:\n",
        "  1. As dimensões precisam combinar:\n",
        "\n",
        "    `(3, 2) @ (3, 2) - não funciona`\n",
        "\n",
        "    `(2, 3) @ (3, 2) - funciona`\n",
        "  2. A matriz resultante tem o shape da dimensão exterior\n"
      ],
      "metadata": {
        "id": "L4QzunznL3Z5"
      }
    },
    {
      "cell_type": "code",
      "source": [
        "# Element-wise\n",
        "print(tensor, \"*\", tensor)\n",
        "print(f\"Igual a: {tensor * tensor}\")"
      ],
      "metadata": {
        "colab": {
          "base_uri": "https://localhost:8080/"
        },
        "id": "YgLZ9RZkMFNF",
        "outputId": "0526214b-c638-4b13-8b2d-4bc27bee7884"
      },
      "execution_count": null,
      "outputs": [
        {
          "output_type": "stream",
          "name": "stdout",
          "text": [
            "tensor([1, 2, 3]) * tensor([1, 2, 3])\n",
            "Igual a: tensor([1, 4, 9])\n"
          ]
        }
      ]
    },
    {
      "cell_type": "code",
      "source": [
        "# Matrix Multiplication (dot product)\n",
        "torch.matmul(tensor, tensor)"
      ],
      "metadata": {
        "colab": {
          "base_uri": "https://localhost:8080/"
        },
        "id": "oRpkT8_JOXeM",
        "outputId": "eb43e0f2-f084-47b7-a207-684ac85bc78c"
      },
      "execution_count": null,
      "outputs": [
        {
          "output_type": "execute_result",
          "data": {
            "text/plain": [
              "tensor(14)"
            ]
          },
          "metadata": {},
          "execution_count": 6
        }
      ]
    },
    {
      "cell_type": "markdown",
      "source": [
        "in-built function é mais eficaz, nesse caso"
      ],
      "metadata": {
        "id": "VHWpPx3nPUNt"
      }
    },
    {
      "cell_type": "code",
      "source": [
        "# um por um\n",
        "%%time\n",
        "value = 0\n",
        "for i in range(len(tensor)):\n",
        "  value += tensor[i] * tensor[i]\n",
        "print(value)"
      ],
      "metadata": {
        "colab": {
          "base_uri": "https://localhost:8080/"
        },
        "id": "WK-U-q5qPT3n",
        "outputId": "cbcf25cf-5003-47c2-df25-c7eb6554cbf3"
      },
      "execution_count": null,
      "outputs": [
        {
          "output_type": "stream",
          "name": "stdout",
          "text": [
            "tensor(14)\n",
            "CPU times: user 678 µs, sys: 0 ns, total: 678 µs\n",
            "Wall time: 686 µs\n"
          ]
        }
      ]
    },
    {
      "cell_type": "code",
      "source": [
        "#in built function\n",
        "%%time\n",
        "torch.matmul(tensor, tensor)"
      ],
      "metadata": {
        "colab": {
          "base_uri": "https://localhost:8080/"
        },
        "id": "4NMsysK8PgEw",
        "outputId": "78ca2c01-acaf-4e55-88e9-461180718b13"
      },
      "execution_count": null,
      "outputs": [
        {
          "output_type": "stream",
          "name": "stdout",
          "text": [
            "CPU times: user 71 µs, sys: 6 µs, total: 77 µs\n",
            "Wall time: 81.3 µs\n"
          ]
        },
        {
          "output_type": "execute_result",
          "data": {
            "text/plain": [
              "tensor(14)"
            ]
          },
          "metadata": {},
          "execution_count": 19
        }
      ]
    },
    {
      "cell_type": "markdown",
      "source": [
        "obs: atenção ao shape error"
      ],
      "metadata": {
        "id": "zh1PcvC7QTJY"
      }
    },
    {
      "cell_type": "markdown",
      "source": [
        "**Operação *transpose***"
      ],
      "metadata": {
        "id": "fcHci2cHwkCJ"
      }
    },
    {
      "cell_type": "code",
      "source": [
        "tensorA = torch.tensor([[1, 2],\n",
        "                       [3, 4],\n",
        "                       [5, 6]])\n",
        "tensorB = torch.tensor([[7, 10],\n",
        "                        [8, 11],\n",
        "                        [9, 12]])"
      ],
      "metadata": {
        "id": "6DACxmJOSoQN"
      },
      "execution_count": null,
      "outputs": []
    },
    {
      "cell_type": "markdown",
      "source": [
        "Nesta situação, operações não podem ser feitas. As dimensões não correspondem (3x2 @ 3x2). Para corrigir, aplicamos uma transposição em um dos tensores, de modo que seja compatível (3x2 @ 2x3)"
      ],
      "metadata": {
        "id": "loxNoADQxQ-W"
      }
    },
    {
      "cell_type": "code",
      "source": [
        "print(tensorB)\n",
        "print()\n",
        "tensorB.T"
      ],
      "metadata": {
        "colab": {
          "base_uri": "https://localhost:8080/"
        },
        "id": "jxyPTeNe00DR",
        "outputId": "160f8ddf-9051-4d75-bc1f-66f3a2159801"
      },
      "execution_count": null,
      "outputs": [
        {
          "output_type": "stream",
          "name": "stdout",
          "text": [
            "tensor([[ 7, 10],\n",
            "        [ 8, 11],\n",
            "        [ 9, 12]])\n",
            "\n"
          ]
        },
        {
          "output_type": "execute_result",
          "data": {
            "text/plain": [
              "tensor([[ 7,  8,  9],\n",
              "        [10, 11, 12]])"
            ]
          },
          "metadata": {},
          "execution_count": 26
        }
      ]
    },
    {
      "cell_type": "markdown",
      "source": [
        "Dessa forma conseguimos realizar operações"
      ],
      "metadata": {
        "id": "3exi0_hC2zTB"
      }
    },
    {
      "cell_type": "code",
      "source": [
        "torch.matmul(tensorA, tensorB.T)"
      ],
      "metadata": {
        "id": "aZe9mRSf2678",
        "outputId": "33763553-bf3f-4bcc-b968-5cd3eafb31c6",
        "colab": {
          "base_uri": "https://localhost:8080/"
        }
      },
      "execution_count": null,
      "outputs": [
        {
          "output_type": "execute_result",
          "data": {
            "text/plain": [
              "tensor([[ 27,  30,  33],\n",
              "        [ 61,  68,  75],\n",
              "        [ 95, 106, 117]])"
            ]
          },
          "metadata": {},
          "execution_count": 28
        }
      ]
    },
    {
      "cell_type": "markdown",
      "source": [
        "# **Tensor Aggregation**"
      ],
      "metadata": {
        "id": "20nw_jPjFJtg"
      }
    },
    {
      "cell_type": "markdown",
      "source": [
        "Encontrando mínimo, máximo, mean, soma, etc"
      ],
      "metadata": {
        "id": "nqTCd4ElFVdj"
      }
    },
    {
      "cell_type": "code",
      "source": [
        "# Criando tensor\n",
        "x = torch.arange(0, 100,10)\n",
        "x\n",
        "x.dtype"
      ],
      "metadata": {
        "colab": {
          "base_uri": "https://localhost:8080/"
        },
        "id": "bL8xK_EfFO8B",
        "outputId": "5bc40005-18da-4fee-cf48-be7f1e77cf87"
      },
      "execution_count": null,
      "outputs": [
        {
          "output_type": "execute_result",
          "data": {
            "text/plain": [
              "torch.int64"
            ]
          },
          "metadata": {},
          "execution_count": 4
        }
      ]
    },
    {
      "cell_type": "code",
      "source": [
        "torch.min(x), x.min()"
      ],
      "metadata": {
        "colab": {
          "base_uri": "https://localhost:8080/"
        },
        "id": "UTwBwyJsFsC9",
        "outputId": "f670712b-85fa-43e8-e73e-2877e871e966"
      },
      "execution_count": null,
      "outputs": [
        {
          "output_type": "execute_result",
          "data": {
            "text/plain": [
              "(tensor(0), tensor(0))"
            ]
          },
          "metadata": {},
          "execution_count": 5
        }
      ]
    },
    {
      "cell_type": "code",
      "source": [
        "torch.max(x), x.max()"
      ],
      "metadata": {
        "colab": {
          "base_uri": "https://localhost:8080/"
        },
        "id": "ix3e9RcZG4uP",
        "outputId": "a44bfb80-7828-4283-eb20-fdc0cb04f6b4"
      },
      "execution_count": null,
      "outputs": [
        {
          "output_type": "execute_result",
          "data": {
            "text/plain": [
              "(tensor(90), tensor(90))"
            ]
          },
          "metadata": {},
          "execution_count": 6
        }
      ]
    },
    {
      "cell_type": "code",
      "source": [
        "torch.mean(x)\n",
        "# datatype incorreto - mean requer datatype float 32"
      ],
      "metadata": {
        "colab": {
          "base_uri": "https://localhost:8080/",
          "height": 164
        },
        "id": "GHdSSJp9HG7k",
        "outputId": "fdb1fabf-f752-4652-e2bb-202ae990f9a9"
      },
      "execution_count": null,
      "outputs": [
        {
          "output_type": "error",
          "ename": "RuntimeError",
          "evalue": "mean(): could not infer output dtype. Input dtype must be either a floating point or complex dtype. Got: Long",
          "traceback": [
            "\u001b[0;31m---------------------------------------------------------------------------\u001b[0m",
            "\u001b[0;31mRuntimeError\u001b[0m                              Traceback (most recent call last)",
            "\u001b[0;32m<ipython-input-7-6ce22a565aa6>\u001b[0m in \u001b[0;36m<cell line: 1>\u001b[0;34m()\u001b[0m\n\u001b[0;32m----> 1\u001b[0;31m \u001b[0mtorch\u001b[0m\u001b[0;34m.\u001b[0m\u001b[0mmean\u001b[0m\u001b[0;34m(\u001b[0m\u001b[0mx\u001b[0m\u001b[0;34m)\u001b[0m\u001b[0;34m\u001b[0m\u001b[0;34m\u001b[0m\u001b[0m\n\u001b[0m\u001b[1;32m      2\u001b[0m \u001b[0;31m# datatype incorreto - mean requer datatype float 32\u001b[0m\u001b[0;34m\u001b[0m\u001b[0;34m\u001b[0m\u001b[0m\n",
            "\u001b[0;31mRuntimeError\u001b[0m: mean(): could not infer output dtype. Input dtype must be either a floating point or complex dtype. Got: Long"
          ]
        }
      ]
    },
    {
      "cell_type": "code",
      "source": [
        "torch.mean(x.type(torch.float32)), x.type(torch.float32).mean()"
      ],
      "metadata": {
        "colab": {
          "base_uri": "https://localhost:8080/"
        },
        "id": "oxE5w8VmHK-D",
        "outputId": "3b41c23d-4d10-47f0-f089-64fa5d7b9dcc"
      },
      "execution_count": null,
      "outputs": [
        {
          "output_type": "execute_result",
          "data": {
            "text/plain": [
              "(tensor(45.), tensor(45.))"
            ]
          },
          "metadata": {},
          "execution_count": 8
        }
      ]
    },
    {
      "cell_type": "code",
      "source": [
        "torch.sum(x), x.sum()"
      ],
      "metadata": {
        "colab": {
          "base_uri": "https://localhost:8080/"
        },
        "id": "CnTcl8v0INag",
        "outputId": "7cf5c6f6-b795-464f-a792-393370729d46"
      },
      "execution_count": null,
      "outputs": [
        {
          "output_type": "execute_result",
          "data": {
            "text/plain": [
              "(tensor(450), tensor(450))"
            ]
          },
          "metadata": {},
          "execution_count": 9
        }
      ]
    },
    {
      "cell_type": "markdown",
      "source": [
        "Encontrando o positional min and max"
      ],
      "metadata": {
        "id": "fkxOEWSxHww1"
      }
    },
    {
      "cell_type": "code",
      "source": [
        "x"
      ],
      "metadata": {
        "colab": {
          "base_uri": "https://localhost:8080/"
        },
        "id": "A2b3FCD9H2RF",
        "outputId": "8d86df37-f6c6-4f30-9ede-f0fb20b58aa2"
      },
      "execution_count": null,
      "outputs": [
        {
          "output_type": "execute_result",
          "data": {
            "text/plain": [
              "tensor([ 0, 10, 20, 30, 40, 50, 60, 70, 80, 90])"
            ]
          },
          "metadata": {},
          "execution_count": 10
        }
      ]
    },
    {
      "cell_type": "code",
      "source": [
        "# find the position in tensor that has the minimum value with argmin() ->\n",
        "# returns index position of target tensr where the minimum value occurs\n",
        "x.argmin()"
      ],
      "metadata": {
        "colab": {
          "base_uri": "https://localhost:8080/"
        },
        "id": "hrI_HBwoH4FH",
        "outputId": "20946737-9dac-47b9-92a6-077d18cdd0c6"
      },
      "execution_count": null,
      "outputs": [
        {
          "output_type": "execute_result",
          "data": {
            "text/plain": [
              "tensor(0)"
            ]
          },
          "metadata": {},
          "execution_count": 11
        }
      ]
    },
    {
      "cell_type": "code",
      "source": [
        "# the same with argmax()\n",
        "x.argmax()"
      ],
      "metadata": {
        "colab": {
          "base_uri": "https://localhost:8080/"
        },
        "id": "J3ZqQzwgKRma",
        "outputId": "d49e05f6-ca89-4623-a893-bec4b99de780"
      },
      "execution_count": null,
      "outputs": [
        {
          "output_type": "execute_result",
          "data": {
            "text/plain": [
              "tensor(9)"
            ]
          },
          "metadata": {},
          "execution_count": 12
        }
      ]
    }
  ]
}