{
  "nbformat": 4,
  "nbformat_minor": 0,
  "metadata": {
    "colab": {
      "provenance": [],
      "authorship_tag": "ABX9TyMLG9PRV7Vw/1hOTG3wcvJO",
      "include_colab_link": true
    },
    "kernelspec": {
      "name": "python3",
      "display_name": "Python 3"
    },
    "language_info": {
      "name": "python"
    }
  },
  "cells": [
    {
      "cell_type": "markdown",
      "metadata": {
        "id": "view-in-github",
        "colab_type": "text"
      },
      "source": [
        "<a href=\"https://colab.research.google.com/github/PedroAfonsoBraga/PyTorch_fundamentals/blob/main/00_pytorch_fundamentals.ipynb\" target=\"_parent\"><img src=\"https://colab.research.google.com/assets/colab-badge.svg\" alt=\"Open In Colab\"/></a>"
      ]
    },
    {
      "cell_type": "markdown",
      "source": [
        "# Importando bibliotecas"
      ],
      "metadata": {
        "id": "ibk8-IeL4OeF"
      }
    },
    {
      "cell_type": "code",
      "execution_count": 2,
      "metadata": {
        "colab": {
          "base_uri": "https://localhost:8080/"
        },
        "id": "U2qCTlHA3knH",
        "outputId": "20b5483f-8243-4bd0-ac37-17dffb334280"
      },
      "outputs": [
        {
          "output_type": "stream",
          "name": "stdout",
          "text": [
            "2.0.1+cu118\n"
          ]
        }
      ],
      "source": [
        "import torch\n",
        "import pandas as pd\n",
        "import numpy as np\n",
        "import matplotlib.pyplot as plt\n",
        "print(torch.__version__)"
      ]
    },
    {
      "cell_type": "markdown",
      "source": [
        "# **Criando Tensores**"
      ],
      "metadata": {
        "id": "Tnu5Rpze4Tl8"
      }
    },
    {
      "cell_type": "markdown",
      "source": [
        "Tensores do PyTorch são criados com `torch.tensor()`\n",
        "https://pytorch.org/docs/stable/tensors.html#torch.Tensor\n"
      ],
      "metadata": {
        "id": "jQc6-H_G4aGl"
      }
    },
    {
      "cell_type": "markdown",
      "source": [
        "Escalar"
      ],
      "metadata": {
        "id": "orxNiDDa5JEK"
      }
    },
    {
      "cell_type": "code",
      "source": [
        "#Escalar\n",
        "scalar = torch.tensor(7)\n",
        "scalar"
      ],
      "metadata": {
        "colab": {
          "base_uri": "https://localhost:8080/"
        },
        "id": "S1XtqhCV4XVF",
        "outputId": "a4bf1c13-41b9-4531-8777-e5799d024633"
      },
      "execution_count": 4,
      "outputs": [
        {
          "output_type": "execute_result",
          "data": {
            "text/plain": [
              "tensor(7)"
            ]
          },
          "metadata": {},
          "execution_count": 4
        }
      ]
    },
    {
      "cell_type": "markdown",
      "source": [
        "não tem dimensões, é apenas um único número"
      ],
      "metadata": {
        "id": "FQCLPCU94lKH"
      }
    },
    {
      "cell_type": "code",
      "source": [
        "#n. de dimensoes\n",
        "scalar.ndim"
      ],
      "metadata": {
        "colab": {
          "base_uri": "https://localhost:8080/"
        },
        "id": "I8LD8J1l4_T6",
        "outputId": "f3ccf0b2-5073-4bba-a252-4452eb32c27e"
      },
      "execution_count": 5,
      "outputs": [
        {
          "output_type": "execute_result",
          "data": {
            "text/plain": [
              "0"
            ]
          },
          "metadata": {},
          "execution_count": 5
        }
      ]
    },
    {
      "cell_type": "code",
      "source": [
        "# Retorna o item do scalar\n",
        "scalar.item()"
      ],
      "metadata": {
        "colab": {
          "base_uri": "https://localhost:8080/"
        },
        "id": "D4FVBlYj5HBS",
        "outputId": "c4fae67e-1cdd-4b4c-a91f-17ac158b258e"
      },
      "execution_count": 6,
      "outputs": [
        {
          "output_type": "execute_result",
          "data": {
            "text/plain": [
              "7"
            ]
          },
          "metadata": {},
          "execution_count": 6
        }
      ]
    },
    {
      "cell_type": "markdown",
      "source": [
        "Vetor"
      ],
      "metadata": {
        "id": "2AgdnuAY503v"
      }
    },
    {
      "cell_type": "code",
      "source": [
        "vector = torch.tensor([7, 7])\n",
        "vector"
      ],
      "metadata": {
        "colab": {
          "base_uri": "https://localhost:8080/"
        },
        "id": "RHydjyZF510H",
        "outputId": "9f847f2a-7bdf-41c5-edfd-30eac85ddb32"
      },
      "execution_count": 7,
      "outputs": [
        {
          "output_type": "execute_result",
          "data": {
            "text/plain": [
              "tensor([7, 7])"
            ]
          },
          "metadata": {},
          "execution_count": 7
        }
      ]
    },
    {
      "cell_type": "code",
      "source": [
        "# numero de dimensoes (n. de [])\n",
        "vector.ndim"
      ],
      "metadata": {
        "colab": {
          "base_uri": "https://localhost:8080/"
        },
        "id": "R6xz8m-76Lvh",
        "outputId": "849511cd-addb-4262-88ca-08f2ba76d885"
      },
      "execution_count": 10,
      "outputs": [
        {
          "output_type": "execute_result",
          "data": {
            "text/plain": [
              "1"
            ]
          },
          "metadata": {},
          "execution_count": 10
        }
      ]
    },
    {
      "cell_type": "code",
      "source": [
        "# shape do vetor\n",
        "vector.shape"
      ],
      "metadata": {
        "colab": {
          "base_uri": "https://localhost:8080/"
        },
        "id": "kedeyN466T1K",
        "outputId": "9e9f3ed6-a2df-4041-a4dd-a9fd0b5b6b61"
      },
      "execution_count": 11,
      "outputs": [
        {
          "output_type": "execute_result",
          "data": {
            "text/plain": [
              "torch.Size([2])"
            ]
          },
          "metadata": {},
          "execution_count": 11
        }
      ]
    },
    {
      "cell_type": "markdown",
      "source": [
        "MATRIZ"
      ],
      "metadata": {
        "id": "NsJ3Cpk76ys9"
      }
    },
    {
      "cell_type": "code",
      "source": [
        "MATRIX = torch.tensor([[1,2],\n",
        "                       [3,4]])\n",
        "MATRIX"
      ],
      "metadata": {
        "colab": {
          "base_uri": "https://localhost:8080/"
        },
        "id": "EINakdCA61mm",
        "outputId": "49aa4a0c-2fdb-44d2-95c4-9a0fe1bfd39f"
      },
      "execution_count": 12,
      "outputs": [
        {
          "output_type": "execute_result",
          "data": {
            "text/plain": [
              "tensor([[1, 2],\n",
              "        [3, 4]])"
            ]
          },
          "metadata": {},
          "execution_count": 12
        }
      ]
    },
    {
      "cell_type": "code",
      "source": [
        "MATRIX.ndim"
      ],
      "metadata": {
        "colab": {
          "base_uri": "https://localhost:8080/"
        },
        "id": "wukYRPvd7HVu",
        "outputId": "56ffb859-5af6-4e24-d6a8-c714202247b1"
      },
      "execution_count": 13,
      "outputs": [
        {
          "output_type": "execute_result",
          "data": {
            "text/plain": [
              "2"
            ]
          },
          "metadata": {},
          "execution_count": 13
        }
      ]
    },
    {
      "cell_type": "code",
      "source": [
        "MATRIX[1]"
      ],
      "metadata": {
        "colab": {
          "base_uri": "https://localhost:8080/"
        },
        "id": "TA9eEW3P7JKO",
        "outputId": "120bcb1b-d435-405b-aafa-7fc52f360176"
      },
      "execution_count": 16,
      "outputs": [
        {
          "output_type": "execute_result",
          "data": {
            "text/plain": [
              "tensor([3, 4])"
            ]
          },
          "metadata": {},
          "execution_count": 16
        }
      ]
    },
    {
      "cell_type": "code",
      "source": [
        "MATRIX.shape"
      ],
      "metadata": {
        "colab": {
          "base_uri": "https://localhost:8080/"
        },
        "id": "bqgChotb7N5w",
        "outputId": "666d4fe1-1c00-4f30-e645-623b08c5b22b"
      },
      "execution_count": 17,
      "outputs": [
        {
          "output_type": "execute_result",
          "data": {
            "text/plain": [
              "torch.Size([2, 2])"
            ]
          },
          "metadata": {},
          "execution_count": 17
        }
      ]
    },
    {
      "cell_type": "markdown",
      "source": [
        "Tensor"
      ],
      "metadata": {
        "id": "Q2_NAnZX7SSw"
      }
    },
    {
      "cell_type": "code",
      "source": [
        "TENSOR = torch.tensor([[[1,2,3],\n",
        "                        [3,6,9],\n",
        "                        [2,4,5]],\n",
        "                       [[1,3,5],\n",
        "                        [7,8,9],\n",
        "                        [9,7,5]]])\n",
        "TENSOR"
      ],
      "metadata": {
        "colab": {
          "base_uri": "https://localhost:8080/"
        },
        "id": "WGdNT-Ea7TwQ",
        "outputId": "fac4b26e-26bd-488e-854f-b761db76a032"
      },
      "execution_count": 29,
      "outputs": [
        {
          "output_type": "execute_result",
          "data": {
            "text/plain": [
              "tensor([[[1, 2, 3],\n",
              "         [3, 6, 9],\n",
              "         [2, 4, 5]],\n",
              "\n",
              "        [[1, 3, 5],\n",
              "         [7, 8, 9],\n",
              "         [9, 7, 5]]])"
            ]
          },
          "metadata": {},
          "execution_count": 29
        }
      ]
    },
    {
      "cell_type": "code",
      "source": [
        "TENSOR.ndim"
      ],
      "metadata": {
        "colab": {
          "base_uri": "https://localhost:8080/"
        },
        "id": "BV-2AJXP7roq",
        "outputId": "760f1cfd-779d-4cb2-a94b-53d9157c60d2"
      },
      "execution_count": 30,
      "outputs": [
        {
          "output_type": "execute_result",
          "data": {
            "text/plain": [
              "3"
            ]
          },
          "metadata": {},
          "execution_count": 30
        }
      ]
    },
    {
      "cell_type": "code",
      "source": [
        "TENSOR.shape"
      ],
      "metadata": {
        "colab": {
          "base_uri": "https://localhost:8080/"
        },
        "id": "LmAgdAV27zoD",
        "outputId": "58b58500-c0a7-46f9-83f9-48d1215c1ef8"
      },
      "execution_count": 31,
      "outputs": [
        {
          "output_type": "execute_result",
          "data": {
            "text/plain": [
              "torch.Size([2, 3, 3])"
            ]
          },
          "metadata": {},
          "execution_count": 31
        }
      ]
    },
    {
      "cell_type": "code",
      "source": [
        "TENSOR[0]"
      ],
      "metadata": {
        "colab": {
          "base_uri": "https://localhost:8080/"
        },
        "id": "nzFEO4PB8HQ-",
        "outputId": "ae4b772a-e2e3-44f7-8bcf-d67eb00533cf"
      },
      "execution_count": 34,
      "outputs": [
        {
          "output_type": "execute_result",
          "data": {
            "text/plain": [
              "tensor([[1, 2, 3],\n",
              "        [3, 6, 9],\n",
              "        [2, 4, 5]])"
            ]
          },
          "metadata": {},
          "execution_count": 34
        }
      ]
    },
    {
      "cell_type": "markdown",
      "source": [
        "# **Criando Tensores aleatórios**"
      ],
      "metadata": {
        "id": "vjwDVLud8owR"
      }
    },
    {
      "cell_type": "markdown",
      "source": [
        "**Por que tensores aleatórios?**\n",
        "\n",
        "Tensores aleatórios são importantes porque é a maneira como muitas redes neurais aprendem, começando com tensores com valores aleatórios, e então ajustam estes valores para melhor representar os dados"
      ],
      "metadata": {
        "id": "NA-BsoF2IQRl"
      }
    },
    {
      "cell_type": "markdown",
      "source": [
        "`Inicia com números aleatórios -> observa os dados -> atualiza valores aleatórios -> observa os dados -> atualiza valores aleatórios`"
      ],
      "metadata": {
        "id": "VuRg3QAuI5Vv"
      }
    },
    {
      "cell_type": "markdown",
      "source": [
        "**Criando Tensor aleatório**\n",
        "\n",
        "Tensor de tamanho (3,4)\n",
        "\n",
        "Torch docs - https://pytorch.org/docs/stable/generated/torch.rand.html#torch.rand"
      ],
      "metadata": {
        "id": "UHSieuEIJNbY"
      }
    },
    {
      "cell_type": "code",
      "source": [
        "random_tensor = torch.rand(3,4)\n",
        "random_tensor"
      ],
      "metadata": {
        "colab": {
          "base_uri": "https://localhost:8080/"
        },
        "id": "W__ms3IeI1UG",
        "outputId": "58b158de-3d00-4767-cd6d-5e68a1c7dc3e"
      },
      "execution_count": 3,
      "outputs": [
        {
          "output_type": "execute_result",
          "data": {
            "text/plain": [
              "tensor([[0.4125, 0.5180, 0.8894, 0.6679],\n",
              "        [0.5299, 0.3737, 0.1165, 0.2661],\n",
              "        [0.9328, 0.0975, 0.1742, 0.7616]])"
            ]
          },
          "metadata": {},
          "execution_count": 3
        }
      ]
    },
    {
      "cell_type": "code",
      "source": [
        "random_tensor.ndim"
      ],
      "metadata": {
        "colab": {
          "base_uri": "https://localhost:8080/"
        },
        "id": "ZPbVAe3BKf3o",
        "outputId": "2ef43fe1-ba60-4bb0-d2d4-4f6b08b468ab"
      },
      "execution_count": 4,
      "outputs": [
        {
          "output_type": "execute_result",
          "data": {
            "text/plain": [
              "2"
            ]
          },
          "metadata": {},
          "execution_count": 4
        }
      ]
    }
  ]
}